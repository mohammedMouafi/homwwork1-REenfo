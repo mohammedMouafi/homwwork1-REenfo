{
 "cells": [
  {
   "cell_type": "code",
   "execution_count": 36,
   "id": "dec9f4f9",
   "metadata": {},
   "outputs": [
    {
     "data": {
      "text/plain": [
       "{'doc00': 'Last month Cloud Speech introduced a new word-level timestamps feature',\n",
       " 'doc11': 'audio transcriptions now include the start and end timestamp for each word',\n",
       " 'doc22': 'This opens up tons of possibilities',\n",
       " 'doc33': 'developers can now skip to the exact moment in an audio file where a word was spoken',\n",
       " 'doc44': 'display the relevant text while audio is playing, or search a library of audio for a specificterm'}"
      ]
     },
     "execution_count": 36,
     "metadata": {},
     "output_type": "execute_result"
    }
   ],
   "source": [
    "d00=\"Last month Cloud Speech introduced a new word-level timestamps feature\"\n",
    "d11=\"audio transcriptions now include the start and end timestamp for each word\"\n",
    "d22 =\"This opens up tons of possibilities\"\n",
    "d33 =\"developers can now skip to the exact moment in an audio file where a word was spoken\"\n",
    "d44=\"display the relevant text while audio is playing, or search a library of audio for a specificterm\"\n",
    "collection = {\"doc00\": d00,\n",
    "\"doc11\": d11,\n",
    "\"doc22\": d22,\n",
    "\"doc33\": d33,\n",
    "\"doc44\": d44}\n",
    "collection"
   ]
  },
  {
   "cell_type": "code",
   "execution_count": 37,
   "id": "ee6eaacd",
   "metadata": {},
   "outputs": [],
   "source": [
    "boolean_operators = {'AND', 'OR', 'NOT'}"
   ]
  },
  {
   "cell_type": "code",
   "execution_count": 38,
   "id": "e6fafd96",
   "metadata": {},
   "outputs": [],
   "source": [
    "def term_document_incidence_matrix(collection):\n",
    "    terms = get_terms(collection)\n",
    "    uique_terms = get_unique_terms(terms)\n",
    "    docs_terms=get_document_collection_terms(collection)\n",
    "    term_docs_matrix= { }\n",
    "    for term in uique_terms :\n",
    "        vector=[]\n",
    "        for c in docs_terms:\n",
    "            if term in docs_terms[c]:\n",
    "                vector.append(1)\n",
    "            else :\n",
    "                vector.append(0)\n",
    "        term_docs_matrix[term]=vector\n",
    "    return term_docs_matrix\n"
   ]
  },
  {
   "cell_type": "code",
   "execution_count": 39,
   "id": "8b35c906",
   "metadata": {},
   "outputs": [],
   "source": [
    "def get_terms (data):\n",
    "    terms=[]\n",
    "    for doc in data:\n",
    "        for term in data[doc].split() :\n",
    "            terms.append(term)\n",
    "    return terms"
   ]
  },
  {
   "cell_type": "code",
   "execution_count": 40,
   "id": "ced5bae5",
   "metadata": {},
   "outputs": [
    {
     "data": {
      "text/plain": [
       "['Last',\n",
       " 'month',\n",
       " 'Cloud',\n",
       " 'Speech',\n",
       " 'introduced',\n",
       " 'a',\n",
       " 'new',\n",
       " 'word-level',\n",
       " 'timestamps',\n",
       " 'feature',\n",
       " 'audio',\n",
       " 'transcriptions',\n",
       " 'now',\n",
       " 'include',\n",
       " 'the',\n",
       " 'start',\n",
       " 'and',\n",
       " 'end',\n",
       " 'timestamp',\n",
       " 'for',\n",
       " 'each',\n",
       " 'word',\n",
       " 'This',\n",
       " 'opens',\n",
       " 'up',\n",
       " 'tons',\n",
       " 'of',\n",
       " 'possibilities',\n",
       " 'developers',\n",
       " 'can',\n",
       " 'now',\n",
       " 'skip',\n",
       " 'to',\n",
       " 'the',\n",
       " 'exact',\n",
       " 'moment',\n",
       " 'in',\n",
       " 'an',\n",
       " 'audio',\n",
       " 'file',\n",
       " 'where',\n",
       " 'a',\n",
       " 'word',\n",
       " 'was',\n",
       " 'spoken',\n",
       " 'display',\n",
       " 'the',\n",
       " 'relevant',\n",
       " 'text',\n",
       " 'while',\n",
       " 'audio',\n",
       " 'is',\n",
       " 'playing,',\n",
       " 'or',\n",
       " 'search',\n",
       " 'a',\n",
       " 'library',\n",
       " 'of',\n",
       " 'audio',\n",
       " 'for',\n",
       " 'a',\n",
       " 'specificterm']"
      ]
     },
     "execution_count": 40,
     "metadata": {},
     "output_type": "execute_result"
    }
   ],
   "source": [
    "get_terms(collection)"
   ]
  },
  {
   "cell_type": "code",
   "execution_count": 41,
   "id": "6fdabf6b",
   "metadata": {},
   "outputs": [],
   "source": [
    "def get_document_collection_terms(data):\n",
    "    docs_colllection={}\n",
    "    for doc in data:\n",
    "        if doc not in boolean_operators :\n",
    "            docs_colllection[doc]=get_unique_terms(data[doc].split())\n",
    "    return docs_colllection"
   ]
  },
  {
   "cell_type": "code",
   "execution_count": 42,
   "id": "3e743cad",
   "metadata": {},
   "outputs": [
    {
     "data": {
      "text/plain": [
       "{'doc00': ['Last',\n",
       "  'month',\n",
       "  'Cloud',\n",
       "  'Speech',\n",
       "  'introduced',\n",
       "  'a',\n",
       "  'new',\n",
       "  'word-level',\n",
       "  'timestamps',\n",
       "  'feature'],\n",
       " 'doc11': ['audio',\n",
       "  'transcriptions',\n",
       "  'now',\n",
       "  'include',\n",
       "  'the',\n",
       "  'start',\n",
       "  'and',\n",
       "  'end',\n",
       "  'timestamp',\n",
       "  'for',\n",
       "  'each',\n",
       "  'word'],\n",
       " 'doc22': ['This', 'opens', 'up', 'tons', 'of', 'possibilities'],\n",
       " 'doc33': ['developers',\n",
       "  'can',\n",
       "  'now',\n",
       "  'skip',\n",
       "  'to',\n",
       "  'the',\n",
       "  'exact',\n",
       "  'moment',\n",
       "  'in',\n",
       "  'an',\n",
       "  'audio',\n",
       "  'file',\n",
       "  'where',\n",
       "  'a',\n",
       "  'word',\n",
       "  'was',\n",
       "  'spoken'],\n",
       " 'doc44': ['display',\n",
       "  'the',\n",
       "  'relevant',\n",
       "  'text',\n",
       "  'while',\n",
       "  'audio',\n",
       "  'is',\n",
       "  'playing,',\n",
       "  'or',\n",
       "  'search',\n",
       "  'a',\n",
       "  'library',\n",
       "  'of',\n",
       "  'for',\n",
       "  'specificterm']}"
      ]
     },
     "execution_count": 42,
     "metadata": {},
     "output_type": "execute_result"
    }
   ],
   "source": [
    "get_document_collection_terms(collection)"
   ]
  },
  {
   "cell_type": "code",
   "execution_count": 45,
   "id": "eb1f60c8",
   "metadata": {},
   "outputs": [],
   "source": [
    "def display_dict(dic):\n",
    "    print(\"\\n\")\n",
    "    for i in dic:\n",
    "        print (i , \" : \" ,dic[i])\n",
    "    print(\"\\n\")"
   ]
  },
  {
   "cell_type": "code",
   "execution_count": 46,
   "id": "b222266c",
   "metadata": {},
   "outputs": [
    {
     "name": "stdout",
     "output_type": "stream",
     "text": [
      "\n",
      "\n",
      "doc00  :  Last month Cloud Speech introduced a new word-level timestamps feature\n",
      "doc11  :  audio transcriptions now include the start and end timestamp for each word\n",
      "doc22  :  This opens up tons of possibilities\n",
      "doc33  :  developers can now skip to the exact moment in an audio file where a word was spoken\n",
      "doc44  :  display the relevant text while audio is playing, or search a library of audio for a specificterm\n",
      "\n",
      "\n"
     ]
    }
   ],
   "source": [
    "display_dict(collection)"
   ]
  },
  {
   "cell_type": "code",
   "execution_count": 47,
   "id": "324317d0",
   "metadata": {},
   "outputs": [],
   "source": [
    "def term_incidence_vector(term,term_docs_incid_matrix):\n",
    "    try:\n",
    "        return term_docs_incid_matrix[term]\n",
    "    except:\n",
    "        return \"term not found\""
   ]
  },
  {
   "cell_type": "code",
   "execution_count": 48,
   "id": "1c6301c2",
   "metadata": {},
   "outputs": [
    {
     "name": "stdout",
     "output_type": "stream",
     "text": [
      "Term-Document incidence Matrix\n",
      "\n",
      "\n",
      "\n",
      "Last  :  [1, 0, 0, 0, 0]\n",
      "month  :  [1, 0, 0, 0, 0]\n",
      "Cloud  :  [1, 0, 0, 0, 0]\n",
      "Speech  :  [1, 0, 0, 0, 0]\n",
      "introduced  :  [1, 0, 0, 0, 0]\n",
      "a  :  [1, 0, 0, 1, 1]\n",
      "new  :  [1, 0, 0, 0, 0]\n",
      "word-level  :  [1, 0, 0, 0, 0]\n",
      "timestamps  :  [1, 0, 0, 0, 0]\n",
      "feature  :  [1, 0, 0, 0, 0]\n",
      "audio  :  [0, 1, 0, 1, 1]\n",
      "transcriptions  :  [0, 1, 0, 0, 0]\n",
      "now  :  [0, 1, 0, 1, 0]\n",
      "include  :  [0, 1, 0, 0, 0]\n",
      "the  :  [0, 1, 0, 1, 1]\n",
      "start  :  [0, 1, 0, 0, 0]\n",
      "and  :  [0, 1, 0, 0, 0]\n",
      "end  :  [0, 1, 0, 0, 0]\n",
      "timestamp  :  [0, 1, 0, 0, 0]\n",
      "for  :  [0, 1, 0, 0, 1]\n",
      "each  :  [0, 1, 0, 0, 0]\n",
      "word  :  [0, 1, 0, 1, 0]\n",
      "This  :  [0, 0, 1, 0, 0]\n",
      "opens  :  [0, 0, 1, 0, 0]\n",
      "up  :  [0, 0, 1, 0, 0]\n",
      "tons  :  [0, 0, 1, 0, 0]\n",
      "of  :  [0, 0, 1, 0, 1]\n",
      "possibilities  :  [0, 0, 1, 0, 0]\n",
      "developers  :  [0, 0, 0, 1, 0]\n",
      "can  :  [0, 0, 0, 1, 0]\n",
      "skip  :  [0, 0, 0, 1, 0]\n",
      "to  :  [0, 0, 0, 1, 0]\n",
      "exact  :  [0, 0, 0, 1, 0]\n",
      "moment  :  [0, 0, 0, 1, 0]\n",
      "in  :  [0, 0, 0, 1, 0]\n",
      "an  :  [0, 0, 0, 1, 0]\n",
      "file  :  [0, 0, 0, 1, 0]\n",
      "where  :  [0, 0, 0, 1, 0]\n",
      "was  :  [0, 0, 0, 1, 0]\n",
      "spoken  :  [0, 0, 0, 1, 0]\n",
      "display  :  [0, 0, 0, 0, 1]\n",
      "relevant  :  [0, 0, 0, 0, 1]\n",
      "text  :  [0, 0, 0, 0, 1]\n",
      "while  :  [0, 0, 0, 0, 1]\n",
      "is  :  [0, 0, 0, 0, 1]\n",
      "playing,  :  [0, 0, 0, 0, 1]\n",
      "or  :  [0, 0, 0, 0, 1]\n",
      "search  :  [0, 0, 0, 0, 1]\n",
      "library  :  [0, 0, 0, 0, 1]\n",
      "specificterm  :  [0, 0, 0, 0, 1]\n",
      "\n",
      "\n"
     ]
    }
   ],
   "source": [
    "term_docs_incid_matrix=term_document_incidence_matrix(collection)\n",
    "print(\"Term-Document incidence Matrix\\n\")\n",
    "\n",
    "display_dict(term_docs_incid_matrix)"
   ]
  },
  {
   "cell_type": "code",
   "execution_count": 11,
   "id": "12beedc2",
   "metadata": {},
   "outputs": [],
   "source": [
    "def boolean_retrieval(query,collection1):\n",
    "\n",
    "    term_docs_incid_matrix=term_document_incidence_matrix(collection1)\n",
    "    bitwiseop=\"\"\n",
    "\n",
    "    qterms=query_filteration(query,collection1)\n",
    "    result=[]\n",
    "    result_set={}\n",
    "    has_previous_term=False\n",
    "    has_not_operation=False\n",
    "    inc_vec_prev=[]\n",
    "    inc_vec_next=[]\n",
    "    for term in qterms :\n",
    "        if term not in boolean_operators:\n",
    "            if has_not_operation:\n",
    "                if has_previous_term:\n",
    "                    inc_vec_next=boolean_operator_processing(\"NOT\",term_docs_incid_matrix[term],inc_vec_next)\n",
    "                else :\n",
    "                    inc_vec_prev=boolean_operator_processing(\"NOT\",term_docs_incid_matrix[term],inc_vec_next)\n",
    "                    result=inc_vec_prev\n",
    "                has_not_operation=False\n",
    "            elif has_previous_term:\n",
    "                inc_vec_next=term_docs_incid_matrix[term]\n",
    "            else :\n",
    "                inc_vec_prev=term_docs_incid_matrix[term]\n",
    "                result= inc_vec_prev\n",
    "                has_previous_term=True\n",
    "        elif term ==\"NOT\":\n",
    "            has_not_operation=True\n",
    "        else :\n",
    "            bitwiseop=term\n",
    "        if len(inc_vec_next)!= 0 :\n",
    "            result = boolean_operator_processing(bitwiseop,inc_vec_prev,inc_vec_next)\n",
    "            inc_vec_prev=result\n",
    "            has_previous_term=True\n",
    "            inc_vec_next= []\n",
    "    for i,doc in zip(result,collection1):\n",
    "        result_set[doc]=i\n",
    "    return result_set"
   ]
  },
  {
   "cell_type": "code",
   "execution_count": 12,
   "id": "3cf49ae0",
   "metadata": {},
   "outputs": [
    {
     "data": {
      "text/plain": [
       "{'doc00': 'Last month Cloud Speech introduced a new word-level timestamps feature',\n",
       " 'doc11': 'audio transcriptions now include the start and end timestamp for each word',\n",
       " 'doc22': 'This opens up tons of possibilities',\n",
       " 'doc33': 'developers can now skip to the exact moment in an audio file where a word was spoken',\n",
       " 'doc44': 'display the relevant text while audio is playing, or search a library of audio for a specificterm'}"
      ]
     },
     "execution_count": 12,
     "metadata": {},
     "output_type": "execute_result"
    }
   ],
   "source": [
    "collection1"
   ]
  },
  {
   "cell_type": "code",
   "execution_count": 50,
   "id": "4daacf9c",
   "metadata": {},
   "outputs": [],
   "source": [
    "def query_filteration(query,collection):\n",
    "    terms= get_terms(collection)\n",
    "    unique_terms=get_unique_terms(terms)\n",
    "    qterms=[]\n",
    "    splitted_query=query.split()\n",
    "    for qterm in splitted_query:\n",
    "        if qterm in unique_terms or qterm in boolean_operators:\n",
    "            qterms.append(qterm)\n",
    "    return qterms"
   ]
  },
  {
   "cell_type": "code",
   "execution_count": 53,
   "id": "1b705c86",
   "metadata": {},
   "outputs": [],
   "source": [
    "def boolean_operator_processing(bool_operator,prevV,nextV):\n",
    "    if bool_operator == \"AND\":\n",
    "        return [a & b for a, b in zip(prevV, nextV)]\n",
    "    elif bool_operator==\"OR\" :\n",
    "        return [a | b for a, b in zip(prevV, nextV)]\n",
    "    elif bool_operator == \"NOT\":\n",
    "        return [1-a for a in prevV]"
   ]
  },
  {
   "cell_type": "code",
   "execution_count": 54,
   "id": "ebc6a034",
   "metadata": {},
   "outputs": [
    {
     "name": "stdout",
     "output_type": "stream",
     "text": [
      "query1 boolean retrieval  {'doc00': 1, 'doc11': 1, 'doc22': 0, 'doc33': 1, 'doc44': 1}\n"
     ]
    }
   ],
   "source": [
    "query1 = \"Cloud OR timestamp OR audio\"\n",
    "print(\"query1 boolean retrieval \",boolean_retrieval(query1,collection1))"
   ]
  },
  {
   "cell_type": "code",
   "execution_count": 55,
   "id": "dd1d849e",
   "metadata": {},
   "outputs": [
    {
     "name": "stdout",
     "output_type": "stream",
     "text": [
      "query2 boolean retrieval  {'doc00': 0, 'doc11': 1, 'doc22': 0, 'doc33': 1, 'doc44': 1}\n"
     ]
    }
   ],
   "source": [
    "query2 = \" audio AND term\"\n",
    "print(\"query2 boolean retrieval \",boolean_retrieval(query2,collection))"
   ]
  },
  {
   "cell_type": "code",
   "execution_count": 56,
   "id": "0881878e",
   "metadata": {},
   "outputs": [
    {
     "name": "stdout",
     "output_type": "stream",
     "text": [
      "query2 boolean retrieval  {'doc00': 1, 'doc11': 0, 'doc22': 0, 'doc33': 0, 'doc44': 0}\n"
     ]
    }
   ],
   "source": [
    "query3 = \" : Cloud AND NOT audio\"\n",
    "print(\"query2 boolean retrieval \",boolean_retrieval(query3,collection))"
   ]
  }
 ],
 "metadata": {
  "kernelspec": {
   "display_name": "Python 3 (ipykernel)",
   "language": "python",
   "name": "python3"
  },
  "language_info": {
   "codemirror_mode": {
    "name": "ipython",
    "version": 3
   },
   "file_extension": ".py",
   "mimetype": "text/x-python",
   "name": "python",
   "nbconvert_exporter": "python",
   "pygments_lexer": "ipython3",
   "version": "3.9.7"
  }
 },
 "nbformat": 4,
 "nbformat_minor": 5
}
