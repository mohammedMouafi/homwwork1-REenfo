{
 "cells": [
  {
   "cell_type": "code",
   "execution_count": 4,
   "id": "088e2f71",
   "metadata": {},
   "outputs": [
    {
     "data": {
      "text/plain": [
       "{'doc0': 'welcome to our first lab session',\n",
       " 'doc1': 'in this lab , you will lean more about term doucoment  Incidence Matrix',\n",
       " 'doc2': 'You will also learn how to visualize it',\n",
       " 'doc3': 'Hope you enjoy learning it'}"
      ]
     },
     "execution_count": 4,
     "metadata": {},
     "output_type": "execute_result"
    }
   ],
   "source": [
    "d0= \"welcome to our first lab session\"\n",
    "d1=\"in this lab , you will lean more about term doucoment  Incidence Matrix\"\n",
    "d2 = \"You will also learn how to visualize it\"\n",
    "d3 = \"Hope you enjoy learning it\"\n",
    "collection = {\"doc0\": d0,\n",
    "\"doc1\": d1,\n",
    "\"doc2\": d2,\n",
    "\"doc3\": d3}\n",
    "collection\n",
    "\n"
   ]
  },
  {
   "cell_type": "code",
   "execution_count": 5,
   "id": "08c9548d",
   "metadata": {},
   "outputs": [],
   "source": [
    "boolean_operators = {'AND', 'OR', 'NOT'}"
   ]
  },
  {
   "cell_type": "code",
   "execution_count": 6,
   "id": "effc14a8",
   "metadata": {},
   "outputs": [],
   "source": [
    "x1= d0.split()"
   ]
  },
  {
   "cell_type": "code",
   "execution_count": 7,
   "id": "352d8b7f",
   "metadata": {},
   "outputs": [
    {
     "name": "stdout",
     "output_type": "stream",
     "text": [
      "['welcome', 'to', 'our', 'first', 'lab', 'session']\n"
     ]
    }
   ],
   "source": [
    "print (x1)"
   ]
  },
  {
   "cell_type": "code",
   "execution_count": 8,
   "id": "afc1649b",
   "metadata": {},
   "outputs": [],
   "source": [
    "def get_terms (data):\n",
    "    terms=[]\n",
    "    for doc in data:\n",
    "        for term in data[doc].split() :\n",
    "            terms.append(term)\n",
    "    return terms"
   ]
  },
  {
   "cell_type": "code",
   "execution_count": 9,
   "id": "f4f0c812",
   "metadata": {},
   "outputs": [
    {
     "data": {
      "text/plain": [
       "['welcome',\n",
       " 'to',\n",
       " 'our',\n",
       " 'first',\n",
       " 'lab',\n",
       " 'session',\n",
       " 'in',\n",
       " 'this',\n",
       " 'lab',\n",
       " ',',\n",
       " 'you',\n",
       " 'will',\n",
       " 'lean',\n",
       " 'more',\n",
       " 'about',\n",
       " 'term',\n",
       " 'doucoment',\n",
       " 'Incidence',\n",
       " 'Matrix',\n",
       " 'You',\n",
       " 'will',\n",
       " 'also',\n",
       " 'learn',\n",
       " 'how',\n",
       " 'to',\n",
       " 'visualize',\n",
       " 'it',\n",
       " 'Hope',\n",
       " 'you',\n",
       " 'enjoy',\n",
       " 'learning',\n",
       " 'it']"
      ]
     },
     "execution_count": 9,
     "metadata": {},
     "output_type": "execute_result"
    }
   ],
   "source": [
    "get_terms(collection)"
   ]
  },
  {
   "cell_type": "code",
   "execution_count": 10,
   "id": "2f5a2e08",
   "metadata": {},
   "outputs": [],
   "source": [
    "def get_unique_terms(terms):\n",
    "    unique_terms=[]\n",
    "    for d in terms :\n",
    "        if d not in unique_terms:\n",
    "            unique_terms.append(d)\n",
    "    return unique_terms "
   ]
  },
  {
   "cell_type": "code",
   "execution_count": 11,
   "id": "c351a4f6",
   "metadata": {},
   "outputs": [
    {
     "data": {
      "text/plain": [
       "['doc0', 'doc1', 'doc2', 'doc3']"
      ]
     },
     "execution_count": 11,
     "metadata": {},
     "output_type": "execute_result"
    }
   ],
   "source": [
    "get_unique_terms(collection)"
   ]
  },
  {
   "cell_type": "code",
   "execution_count": 12,
   "id": "daca366b",
   "metadata": {},
   "outputs": [],
   "source": [
    "def get_document_collection_terms(data):\n",
    "    docs_colllection={}\n",
    "    for doc in data:\n",
    "        if doc not in boolean_operators :\n",
    "            docs_colllection[doc]=get_unique_terms(data[doc].split())\n",
    "    return docs_colllection\n"
   ]
  },
  {
   "cell_type": "code",
   "execution_count": 13,
   "id": "89733135",
   "metadata": {},
   "outputs": [
    {
     "data": {
      "text/plain": [
       "{'doc0': ['welcome', 'to', 'our', 'first', 'lab', 'session'],\n",
       " 'doc1': ['in',\n",
       "  'this',\n",
       "  'lab',\n",
       "  ',',\n",
       "  'you',\n",
       "  'will',\n",
       "  'lean',\n",
       "  'more',\n",
       "  'about',\n",
       "  'term',\n",
       "  'doucoment',\n",
       "  'Incidence',\n",
       "  'Matrix'],\n",
       " 'doc2': ['You', 'will', 'also', 'learn', 'how', 'to', 'visualize', 'it'],\n",
       " 'doc3': ['Hope', 'you', 'enjoy', 'learning', 'it']}"
      ]
     },
     "execution_count": 13,
     "metadata": {},
     "output_type": "execute_result"
    }
   ],
   "source": [
    "get_document_collection_terms(collection)"
   ]
  },
  {
   "cell_type": "code",
   "execution_count": 14,
   "id": "cda58f3d",
   "metadata": {},
   "outputs": [],
   "source": [
    "def display_dict(dic):\n",
    "    print(\"\\n\")\n",
    "    for i in dic:\n",
    "        print (i , \" : \" ,dic[i])\n",
    "    print(\"\\n\")"
   ]
  },
  {
   "cell_type": "code",
   "execution_count": 15,
   "id": "8459e9b2",
   "metadata": {},
   "outputs": [
    {
     "name": "stdout",
     "output_type": "stream",
     "text": [
      "\n",
      "\n",
      "doc0  :  welcome to our first lab session\n",
      "doc1  :  in this lab , you will lean more about term doucoment  Incidence Matrix\n",
      "doc2  :  You will also learn how to visualize it\n",
      "doc3  :  Hope you enjoy learning it\n",
      "\n",
      "\n"
     ]
    }
   ],
   "source": [
    "display_dict(collection)"
   ]
  },
  {
   "cell_type": "code",
   "execution_count": 16,
   "id": "8b966af7",
   "metadata": {},
   "outputs": [
    {
     "name": "stdout",
     "output_type": "stream",
     "text": [
      "### documents content ###\n",
      "\n",
      "\n",
      "doc0  :  welcome to our first lab session\n",
      "doc1  :  in this lab , you will lean more about term doucoment  Incidence Matrix\n",
      "doc2  :  You will also learn how to visualize it\n",
      "doc3  :  Hope you enjoy learning it\n",
      "\n",
      "\n"
     ]
    }
   ],
   "source": [
    "print(\"### documents content ###\")\n",
    "display_dict(collection)\n"
   ]
  },
  {
   "cell_type": "code",
   "execution_count": 17,
   "id": "f858505d",
   "metadata": {},
   "outputs": [
    {
     "name": "stdout",
     "output_type": "stream",
     "text": [
      "\n",
      "### Terms in all docs ###\n",
      " \n",
      " welcome \n",
      " to \n",
      " our \n",
      " first \n",
      " lab \n",
      " session \n",
      " in \n",
      " this \n",
      " lab \n",
      " , \n",
      " you \n",
      " will \n",
      " lean \n",
      " more \n",
      " about \n",
      " term \n",
      " doucoment \n",
      " Incidence \n",
      " Matrix \n",
      " You \n",
      " will \n",
      " also \n",
      " learn \n",
      " how \n",
      " to \n",
      " visualize \n",
      " it \n",
      " Hope \n",
      " you \n",
      " enjoy \n",
      " learning \n",
      " it\n"
     ]
    }
   ],
   "source": [
    "print (\"\\n### Terms in all docs ###\\n\" , *get_terms(collection) ,sep= \" \\n \")\n"
   ]
  },
  {
   "cell_type": "code",
   "execution_count": 18,
   "id": "2d5cf759",
   "metadata": {},
   "outputs": [
    {
     "name": "stdout",
     "output_type": "stream",
     "text": [
      "\n",
      "### Unique Terms in 5 DOCs###\n",
      " | welcome | to | our | first | lab | session | in | this | , | you | will | lean | more | about | term | doucoment | Incidence | Matrix | You | also | learn | how | visualize | it | Hope | enjoy | learning\n"
     ]
    }
   ],
   "source": [
    "terms=get_terms(collection)\n",
    "print (\"\\n### Unique Terms in 5 DOCs###\\n\", *get_unique_terms(terms) ,sep=\" | \")\n"
   ]
  },
  {
   "cell_type": "code",
   "execution_count": 19,
   "id": "2dea958c",
   "metadata": {},
   "outputs": [
    {
     "name": "stdout",
     "output_type": "stream",
     "text": [
      "\n",
      "###Document terms Collection ###\n",
      "\n",
      "\n",
      "doc0  :  ['welcome', 'to', 'our', 'first', 'lab', 'session']\n",
      "doc1  :  ['in', 'this', 'lab', ',', 'you', 'will', 'lean', 'more', 'about', 'term', 'doucoment', 'Incidence', 'Matrix']\n",
      "doc2  :  ['You', 'will', 'also', 'learn', 'how', 'to', 'visualize', 'it']\n",
      "doc3  :  ['Hope', 'you', 'enjoy', 'learning', 'it']\n",
      "\n",
      "\n"
     ]
    }
   ],
   "source": [
    "print (\"\\n###Document terms Collection ###\" )\n",
    "display_dict(get_document_collection_terms(collection))"
   ]
  },
  {
   "cell_type": "code",
   "execution_count": 20,
   "id": "5e451606",
   "metadata": {},
   "outputs": [],
   "source": [
    "        \n",
    "def term_document_incidence_matrix(collection):\n",
    "\n",
    "    terms = get_terms(collection)\n",
    "\n",
    "    uique_terms = get_unique_terms(terms)\n",
    "\n",
    "    docs_terms=get_document_collection_terms(collection)\n",
    "\n",
    "    term_docs_matrix= { }\n",
    "    for term in uique_terms :\n",
    "        vector=[]\n",
    "        for c in docs_terms:\n",
    "            \n",
    "            if term in docs_terms[c]:\n",
    "                vector.append(1)\n",
    "            else :\n",
    "                vector.append(0)\n",
    "                \n",
    "        term_docs_matrix[term]=vector\n",
    "    return term_docs_matrix"
   ]
  },
  {
   "cell_type": "code",
   "execution_count": 21,
   "id": "5ab420a3",
   "metadata": {},
   "outputs": [],
   "source": [
    "def term_incidence_vector(term,term_docs_incid_matrix):\n",
    "    try:\n",
    "        return term_docs_incid_matrix[term]\n",
    "    except:\n",
    "        return \"term not found\""
   ]
  },
  {
   "cell_type": "code",
   "execution_count": 22,
   "id": "366b3522",
   "metadata": {},
   "outputs": [
    {
     "name": "stdout",
     "output_type": "stream",
     "text": [
      "Term-Document incidence Matrix\n",
      "\n",
      "\n",
      "\n",
      "welcome  :  [1, 0, 0, 0]\n",
      "to  :  [1, 0, 1, 0]\n",
      "our  :  [1, 0, 0, 0]\n",
      "first  :  [1, 0, 0, 0]\n",
      "lab  :  [1, 1, 0, 0]\n",
      "session  :  [1, 0, 0, 0]\n",
      "in  :  [0, 1, 0, 0]\n",
      "this  :  [0, 1, 0, 0]\n",
      ",  :  [0, 1, 0, 0]\n",
      "you  :  [0, 1, 0, 1]\n",
      "will  :  [0, 1, 1, 0]\n",
      "lean  :  [0, 1, 0, 0]\n",
      "more  :  [0, 1, 0, 0]\n",
      "about  :  [0, 1, 0, 0]\n",
      "term  :  [0, 1, 0, 0]\n",
      "doucoment  :  [0, 1, 0, 0]\n",
      "Incidence  :  [0, 1, 0, 0]\n",
      "Matrix  :  [0, 1, 0, 0]\n",
      "You  :  [0, 0, 1, 0]\n",
      "also  :  [0, 0, 1, 0]\n",
      "learn  :  [0, 0, 1, 0]\n",
      "how  :  [0, 0, 1, 0]\n",
      "visualize  :  [0, 0, 1, 0]\n",
      "it  :  [0, 0, 1, 1]\n",
      "Hope  :  [0, 0, 0, 1]\n",
      "enjoy  :  [0, 0, 0, 1]\n",
      "learning  :  [0, 0, 0, 1]\n",
      "\n",
      "\n"
     ]
    }
   ],
   "source": [
    "term_docs_incid_matrix=term_document_incidence_matrix(collection)\n",
    "print(\"Term-Document incidence Matrix\\n\")\n",
    "\n",
    "display_dict(term_docs_incid_matrix)\n"
   ]
  },
  {
   "cell_type": "code",
   "execution_count": 23,
   "id": "228f44a8",
   "metadata": {},
   "outputs": [
    {
     "name": "stdout",
     "output_type": "stream",
     "text": [
      "Incidence Vector of 'Matrix'  [0, 1, 0, 0]\n"
     ]
    }
   ],
   "source": [
    "print(\"Incidence Vector of 'Matrix' \",term_incidence_vector('Matrix', term_docs_incid_matrix))"
   ]
  },
  {
   "cell_type": "code",
   "execution_count": 24,
   "id": "f3462a1b",
   "metadata": {},
   "outputs": [],
   "source": [
    "def query_filteration(query,collection):\n",
    "    terms= get_terms(collection)\n",
    "    unique_terms=get_unique_terms(terms)\n",
    "    qterms=[]\n",
    "    splitted_query=query.split()\n",
    "    for qterm in splitted_query:\n",
    "        if qterm in unique_terms or qterm in boolean_operators:\n",
    "            qterms.append(qterm)\n",
    "    return qterms\n"
   ]
  },
  {
   "cell_type": "code",
   "execution_count": 25,
   "id": "cd6203a8",
   "metadata": {},
   "outputs": [
    {
     "name": "stdout",
     "output_type": "stream",
     "text": [
      "['learn', 'AND', 'Matrix', 'AND', 'you']\n"
     ]
    }
   ],
   "source": [
    "query=\"learn AND Matrix AND you\"\n",
    "qterms=query_filteration(query,collection)\n",
    "print(qterms)"
   ]
  },
  {
   "cell_type": "code",
   "execution_count": 26,
   "id": "6fc28667",
   "metadata": {},
   "outputs": [
    {
     "name": "stdout",
     "output_type": "stream",
     "text": [
      "['learn', 'Matrix', 'AND']\n"
     ]
    }
   ],
   "source": [
    "query=\"learn and Matrix AND Taibah\"\n",
    "qterms=query_filteration(query,collection)\n",
    "print(qterms)"
   ]
  },
  {
   "cell_type": "code",
   "execution_count": 27,
   "id": "d9fad1bd",
   "metadata": {},
   "outputs": [],
   "source": [
    "def boolean_operator_processing(bool_operator,prevV,nextV):\n",
    "    if bool_operator == \"AND\":\n",
    "        return [a & b for a, b in zip(prevV, nextV)]\n",
    "    elif bool_operator==\"OR\" :\n",
    "        return [a | b for a, b in zip(prevV, nextV)]\n",
    "    elif bool_operator == \"NOT\":\n",
    "        return [1-a for a in prevV]\n"
   ]
  },
  {
   "cell_type": "code",
   "execution_count": 28,
   "id": "d79f8226",
   "metadata": {},
   "outputs": [
    {
     "name": "stdout",
     "output_type": "stream",
     "text": [
      "v1 [0, 0, 1, 0]\n",
      "v2 [0, 1, 0, 0]\n"
     ]
    }
   ],
   "source": [
    "v1=term_incidence_vector('learn',term_docs_incid_matrix)\n",
    "v2=term_incidence_vector('Matrix',term_docs_incid_matrix)\n",
    "v3=[]\n",
    "print('v1',v1)\n",
    "print('v2',v2)\n"
   ]
  },
  {
   "cell_type": "code",
   "execution_count": 29,
   "id": "339f61f6",
   "metadata": {},
   "outputs": [
    {
     "name": "stdout",
     "output_type": "stream",
     "text": [
      "[0, 0, 0, 0]\n"
     ]
    }
   ],
   "source": [
    "print(boolean_operator_processing(\"AND\",v1,v2))\n"
   ]
  },
  {
   "cell_type": "code",
   "execution_count": 30,
   "id": "131f1833",
   "metadata": {},
   "outputs": [
    {
     "name": "stdout",
     "output_type": "stream",
     "text": [
      "[0, 1, 1, 0]\n"
     ]
    }
   ],
   "source": [
    "print(boolean_operator_processing(\"OR\",v1,v2))\n"
   ]
  },
  {
   "cell_type": "code",
   "execution_count": 31,
   "id": "42d9c5a6",
   "metadata": {},
   "outputs": [
    {
     "name": "stdout",
     "output_type": "stream",
     "text": [
      "[1, 1, 0, 1]\n"
     ]
    }
   ],
   "source": [
    "print(boolean_operator_processing(\"NOT\",v1,v3))\n"
   ]
  },
  {
   "cell_type": "code",
   "execution_count": 32,
   "id": "d89ad701",
   "metadata": {},
   "outputs": [],
   "source": [
    "def boolean_retrieval(query,collection):\n",
    "\n",
    "    term_docs_incid_matrix=term_document_incidence_matrix(collection)\n",
    "    bitwiseop=\"\"\n",
    "\n",
    "    qterms=query_filteration(query,collection)\n",
    "    result=[]\n",
    "    result_set={}\n",
    "    has_previous_term=False\n",
    "    has_not_operation=False\n",
    "    inc_vec_prev=[]\n",
    "    inc_vec_next=[]\n",
    "    for term in qterms :\n",
    "        if term not in boolean_operators:\n",
    "            if has_not_operation:\n",
    "                if has_previous_term:\n",
    "                    inc_vec_next=boolean_operator_processing(\"NOT\",term_docs_incid_matrix[term],inc_vec_next)\n",
    "                else :\n",
    "                    inc_vec_prev=boolean_operator_processing(\"NOT\",term_docs_incid_matrix[term],inc_vec_next)\n",
    "                    result=inc_vec_prev\n",
    "                has_not_operation=False\n",
    "            elif has_previous_term:\n",
    "                inc_vec_next=term_docs_incid_matrix[term]\n",
    "            else :\n",
    "                inc_vec_prev=term_docs_incid_matrix[term]\n",
    "                result= inc_vec_prev\n",
    "                has_previous_term=True\n",
    "        elif term ==\"NOT\":\n",
    "            has_not_operation=True\n",
    "        else :\n",
    "            bitwiseop=term\n",
    "        if len(inc_vec_next)!= 0 :\n",
    "            result = boolean_operator_processing(bitwiseop,inc_vec_prev,inc_vec_next)\n",
    "            inc_vec_prev=result\n",
    "            has_previous_term=True\n",
    "            inc_vec_next= []\n",
    "    for i,doc in zip(result,collection):\n",
    "        result_set[doc]=i\n",
    "    return result_set"
   ]
  },
  {
   "cell_type": "code",
   "execution_count": 33,
   "id": "195889fc",
   "metadata": {},
   "outputs": [
    {
     "data": {
      "text/plain": [
       "{'doc0': 'welcome to our first lab session',\n",
       " 'doc1': 'in this lab , you will lean more about term doucoment  Incidence Matrix',\n",
       " 'doc2': 'You will also learn how to visualize it',\n",
       " 'doc3': 'Hope you enjoy learning it'}"
      ]
     },
     "execution_count": 33,
     "metadata": {},
     "output_type": "execute_result"
    }
   ],
   "source": [
    "collection"
   ]
  },
  {
   "cell_type": "code",
   "execution_count": 59,
   "id": "d4d2c18f",
   "metadata": {},
   "outputs": [
    {
     "name": "stdout",
     "output_type": "stream",
     "text": [
      "query1 boolean retrieval  {'doc0': 1, 'doc1': 1, 'doc2': 1, 'doc3': 0}\n"
     ]
    }
   ],
   "source": [
    "query1 = \" Document OR lab OR learn\"\n",
    "print(\"query1 boolean retrieval \",boolean_retrieval(query1,collection))\n"
   ]
  },
  {
   "cell_type": "code",
   "execution_count": 63,
   "id": "cb761519",
   "metadata": {},
   "outputs": [
    {
     "data": {
      "text/plain": [
       "'term not found'"
      ]
     },
     "execution_count": 63,
     "metadata": {},
     "output_type": "execute_result"
    }
   ],
   "source": [
    "v1=term_incidence_vector(\"Document\",term_docs_incid_matrix)\n",
    "v1\n"
   ]
  },
  {
   "cell_type": "code",
   "execution_count": 36,
   "id": "c831daff",
   "metadata": {},
   "outputs": [
    {
     "data": {
      "text/plain": [
       "[1, 1, 0, 0]"
      ]
     },
     "execution_count": 36,
     "metadata": {},
     "output_type": "execute_result"
    }
   ],
   "source": [
    "v2=term_incidence_vector(\"lab\",term_docs_incid_matrix)\n",
    "v2\n"
   ]
  },
  {
   "cell_type": "code",
   "execution_count": 73,
   "id": "b5ff39f7",
   "metadata": {},
   "outputs": [],
   "source": [
    "Qpart1=boolean_operator_processing(v1,\"OR\",v2)\n",
    "Qpart1\n",
    "\n"
   ]
  },
  {
   "cell_type": "code",
   "execution_count": 74,
   "id": "791e74d7",
   "metadata": {},
   "outputs": [
    {
     "data": {
      "text/plain": [
       "[0, 0, 1, 0]"
      ]
     },
     "execution_count": 74,
     "metadata": {},
     "output_type": "execute_result"
    }
   ],
   "source": [
    "v3=term_incidence_vector(\"learn\",term_docs_incid_matrix)\n",
    "v3\n"
   ]
  },
  {
   "cell_type": "code",
   "execution_count": 75,
   "id": "62a5b803",
   "metadata": {},
   "outputs": [],
   "source": [
    "boolean_operator_processing(Qpart1,\"OR\",v3)\n"
   ]
  },
  {
   "cell_type": "code",
   "execution_count": 76,
   "id": "963629dc",
   "metadata": {},
   "outputs": [
    {
     "data": {
      "text/plain": [
       "{'doc0': 'welcome to our first lab session',\n",
       " 'doc1': 'in this lab , you will lean more about term doucoment  Incidence Matrix',\n",
       " 'doc2': 'You will also learn how to visualize it',\n",
       " 'doc3': 'Hope you enjoy learning it'}"
      ]
     },
     "execution_count": 76,
     "metadata": {},
     "output_type": "execute_result"
    }
   ],
   "source": [
    "collection"
   ]
  },
  {
   "cell_type": "code",
   "execution_count": 77,
   "id": "4c3a8072",
   "metadata": {},
   "outputs": [
    {
     "name": "stdout",
     "output_type": "stream",
     "text": [
      "query2 boolean retrieval  {'doc0': 0, 'doc1': 0, 'doc2': 0, 'doc3': 0}\n"
     ]
    }
   ],
   "source": [
    "query2 = \"Lean AND Matrix AND NOT lab\"\n",
    "print(\"query2 boolean retrieval \",boolean_retrieval(query2,collection))"
   ]
  },
  {
   "cell_type": "code",
   "execution_count": 78,
   "id": "37dc4baa",
   "metadata": {},
   "outputs": [
    {
     "name": "stdout",
     "output_type": "stream",
     "text": [
      "Exercise1\n"
     ]
    }
   ],
   "source": [
    "print(\"Exercise1\")"
   ]
  },
  {
   "cell_type": "code",
   "execution_count": 49,
   "id": "008177e7",
   "metadata": {},
   "outputs": [
    {
     "name": "stdout",
     "output_type": "stream",
     "text": [
      "query3 boolean retrieval  {'doc0': 1, 'doc1': 1, 'doc2': 0, 'doc3': 0}\n"
     ]
    }
   ],
   "source": [
    "query3 = \" Matrix OR lab AND NOT visualize\"\n",
    "print(\"query3 boolean retrieval \",boolean_retrieval(query3,collection))"
   ]
  }
 ],
 "metadata": {
  "kernelspec": {
   "display_name": "Python 3 (ipykernel)",
   "language": "python",
   "name": "python3"
  },
  "language_info": {
   "codemirror_mode": {
    "name": "ipython",
    "version": 3
   },
   "file_extension": ".py",
   "mimetype": "text/x-python",
   "name": "python",
   "nbconvert_exporter": "python",
   "pygments_lexer": "ipython3",
   "version": "3.9.7"
  }
 },
 "nbformat": 4,
 "nbformat_minor": 5
}
